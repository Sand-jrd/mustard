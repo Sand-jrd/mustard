{
 "cells": [
  {
   "cell_type": "markdown",
   "id": "9322709f",
   "metadata": {},
   "source": [
    "# <ins><font color=#2360F0>How to use MUSTARD estimator</font></ins>\n",
    "\n",
    "<font color='red'>A script version of this notebook is available [here](https://github.com/Sand-jrd/mustard/blob/main/demo.py) </font>\n",
    "\n",
    "<img src=\"../example-data/demo.gif\" alt=\"demo\" width=\"500\" text-align=\"center\"/>\n",
    "\n",
    "## <ins><font color=#1945D6>Build the estimator</font></ins>\n",
    "\n",
    "MUSTARD is object-oriented.\n",
    "The estimator object need the ADI cube <font color='red'>**centred and normalized**</font> and the angle to be build... and that is it !\n",
    "\n",
    "Nevertherless, here is a non-exhaustive list of optional parameters that can be handy\n",
    "- `coro` : the size of the coronographe mask in pixels. (default is 6)\n",
    "- `pupil` : the size of the pupil in pixels. (default is `\"edge\"`). If you want to estimate the full matrix you can set it to `None`\n",
    "- `Badframes` : frames that will be ignore (0 is the first frame).\n",
    "\n"
   ]
  },
  {
   "cell_type": "code",
   "execution_count": 1,
   "id": "c7e943db",
   "metadata": {},
   "outputs": [
    {
     "name": "stdout",
     "output_type": "stream",
     "text": [
      "Fits HDU-0 data successfully loaded. Data shape: (66, 256, 256)\n",
      "Fits HDU-0 data successfully loaded. Data shape: (66,)\n"
     ]
    }
   ],
   "source": [
    "from vip_hci.fits import open_fits\n",
    "from mustard import mustard_estimator\n",
    "\n",
    "# Load the data \n",
    "datadir = \"./example-data/\"\n",
    "science_data = open_fits(datadir+\"cube.fits\")\n",
    "angles = open_fits(datadir+\"angles.fits\")\n",
    "\n",
    "# Build the estimator\n",
    "estimator =  mustard_estimator(science_data, angles, coro=8, pupil=\"edge\")\n"
   ]
  },
  {
   "cell_type": "markdown",
   "id": "c47254f0",
   "metadata": {},
   "source": [
    "## <ins><font color=#1945D6>Use the estimator\n",
    "\n",
    "Using the MUSTARD estimator is pretty straightforward.\n",
    "\n",
    "### <ins><font color=#3498DB> First let's define the parameters for the processing"
   ]
  },
  {
   "cell_type": "code",
   "execution_count": 2,
   "id": "e65c53db",
   "metadata": {},
   "outputs": [],
   "source": [
    "param = {'w_r'   : 0.05,      # Proportion of Regul over J\n",
    "        'w_r2'   : 0.10,      # Proportion of Regul2 over J\n",
    "        'w_way'  : (1, 0),    # You can either work with derotated_cube or rotated cube. Or both\n",
    "        'gtol'   : 1e-7,      # Gradient tolerence. Stop the estimation when the mean of gradient will hit the value\n",
    "        'kactiv' : 3,         # Iter before activate regul (i.e when to compute true weight base on w_r proportion)\n",
    "        'estimI' : \"Both\",    # Estimate frames flux is highly recommended ! possible value : {\"Frame\",\"L\",\"Both\"}\n",
    "        'med_sub': True,      # perform a median substraction highly recommended !\n",
    "        'weighted_rot' : True,# Compute weight for each frame according to PA angle separations.\n",
    "        'suffix' : \"\",        # Name of your simulation (this is optional)\n",
    "        'res_pos': False,     # Penalize negative residual\n",
    "        'maxiter': 60}        # Maximum number of iterations (it converge fast tbh)\n"
   ]
  },
  {
   "cell_type": "markdown",
   "id": "b90e203f",
   "metadata": {},
   "source": [
    "There is a bunch of other options. Those presented below are the most important.\n",
    "\n",
    "-`w_r` and `w_r2`, define respectivly the weight of the regularization terms to smooth and to sort circular ambiguity (the last one will be explain later). <font color='red'>**A weight between 10%-5% is recommanded**</font> in order to <ins>let the data attachment terme drive the estimation</ins> to avoid deformations. R2 can be higher if you purposly want to get rid of all circular ambiguities from the disk estimations. \n",
    "\n",
    "-`w_r` define the model definition. **If your signal is corrupted by Gibbs artifact, you can swhitch to reverse mode.** In reverse mode, the speckels map is rotating and it is less likely to cause such problem. You can also try both way at the same time but it takes more time and will not necessarly give better results. \n",
    "\n",
    "-`estimI`, see [Frame Amplitudes](#Frame-Amplitues)\n",
    "\n",
    "\n",
    "#### <ins><font color=#3498DB>Define the regularization (optional)\n",
    "\n",
    "If you are not satified with the aspect of the result, you can modify your prior through the regularization.\n",
    "\n",
    "##### <ins><font color=#17A67E>R2 : For circular ambiguities\n",
    "\n",
    "The main problem of the MUSTARD approch is the inherent ambiguities of the model. This ambiguities can be resolved with prior. \n",
    "\n",
    "The more obvious ambiguity is circular shaped signal beacause it can be assigned both in the static or rotating part. \n",
    "**TIP** : Checkout the MUSTARD result [here](#Results), you will clearly see the halo of circular ambiguities in the speackel map. \n",
    "\n",
    "You can configure a regularization to sort how you want these ambiguies to be resovle with the method `configR2`.\n",
    "I recommand `mode='l1'` and `penaliz=\"X\"` or a `mode='mask'` with a mask that penalize more at the edge of the coronographic mask than the rest of the frame as shown below."
   ]
  },
  {
   "cell_type": "code",
   "execution_count": 3,
   "id": "08de86a6",
   "metadata": {},
   "outputs": [],
   "source": [
    "from mustard.utils import ellipse, circle, gaussian \n",
    "\n",
    "# Create a mask\n",
    "shape = estimator.model.frame_shape # Get the frame shape here.\n",
    "M = circle(shape, shape[0]//2) + 10*circle(shape, 13) \n",
    "\n",
    "# Configure R2\n",
    "estimator.configR2(Msk=None, mode=\"l1\", penaliz=\"X\", invert=True)\n"
   ]
  },
  {
   "cell_type": "markdown",
   "id": "249bfc3d",
   "metadata": {},
   "source": [
    "#### <ins><font color=#17A67E> R2 : Smooth\n",
    "\n",
    "There is some *\"experimental\"* smooth mode that is do not recommand.\n",
    "The only relevant option is `p_L=0.5`. It define the weight of the smooth regularization of the speackel map over the rotating signal map."
   ]
  },
  {
   "cell_type": "code",
   "execution_count": 4,
   "id": "1336f36f",
   "metadata": {},
   "outputs": [],
   "source": [
    "estimator.configR1(mode=\"smooth\", p_L=0.5)"
   ]
  },
  {
   "cell_type": "markdown",
   "id": "38dd9b8b",
   "metadata": {},
   "source": [
    "### <ins><font color=#3498DB> Start the minimization !\n",
    "\n",
    "You are now ready. Stating the minimization is one line.\n",
    "The parameters we defined in a dictionnary above will be used here.\n",
    "There is also some extra parameters :\n",
    "- save : if you provide a path, it will save the results as fits file there\n",
    "- verbode : to print information in the console\n",
    "- gif : to create a gif of you simulation, if you want to see the evolution trought the iteration.\n",
    "\n",
    "The demo from \"exemple-data\" usually takes ~4mins.\n",
    "    \n",
    "**TIP :** Click on the ◼︎ icon to stop prematurely the minimization\n",
    "(or ctrl+C if you are using a console). It will quit proprely the iterative loop. Results will be stored/saved/return.\n"
   ]
  },
  {
   "cell_type": "code",
   "execution_count": null,
   "id": "74fcad3d",
   "metadata": {},
   "outputs": [
    {
     "name": "stdout",
     "output_type": "stream",
     "text": [
      "__________________________________________________\n",
      "Resolving IP-ADI optimization problem - name : \n",
      " Outputs will be saved ./example-data/\n",
      "Regul R1 : 'smooth' and R2 : 'l1 on X inverted'\n",
      "No deconvolution and with frame weighted based on rotations\n",
      "Relative amplitude of BothX and L will be estimated\n",
      "Regul weight are set to w_r=5.00e-02 and w_r2=1.00e-01, maxiter=60\n",
      "\n",
      "|it |       loss        |        R1        |        R2        |       Rpos       |       total      |\n",
      "| 0 |6.503639e-05 (100%)|0.000000e+00 (0 %)|0.000000e+00 (0 %)|0.000000e+00 (0 %)|6.503639112875e-05|\n"
     ]
    }
   ],
   "source": [
    "L_est, X_est, flux =  estimator.estimate(**param, save=datadir,\n",
    "                                                  gif=False,\n",
    "                                                  verbose=True,\n",
    "                                                  history=True)"
   ]
  },
  {
   "cell_type": "markdown",
   "id": "85124957",
   "metadata": {},
   "source": [
    "**INFO** : The iteration k+1/2 is the step where regularization weights are computed. \n",
    "\n",
    "### <ins><font color=#3498DB>Results\n",
    "\n",
    "The estimator store all the results. It does also provide some method to get relevant information."
   ]
  },
  {
   "cell_type": "code",
   "execution_count": null,
   "id": "0079420e",
   "metadata": {},
   "outputs": [],
   "source": [
    "import matplotlib.pyplot as plt\n",
    "from numpy import percentile\n",
    "\n",
    "plt.figure(\"Results\",figsize=(16,9))\n",
    "plt.subplot(121), plt.imshow(L_est,cmap='jet',vmax=percentile(L_est,99.5))\n",
    "plt.subplot(122), plt.imshow(X_est,cmap='jet',vmax=percentile(L_est,99))\n"
   ]
  },
  {
   "cell_type": "markdown",
   "id": "58f26e44",
   "metadata": {},
   "source": [
    "#### <ins><font color=#17A67E> Evolution of the criteria\n",
    "This method return the array of the values of the criteria at each iteration. If you set `show=True` or `save=$path$`, it will also plot the convergence curve."
   ]
  },
  {
   "cell_type": "code",
   "execution_count": null,
   "id": "d4552310",
   "metadata": {},
   "outputs": [],
   "source": [
    "evo = estimator.get_evo_convergence()"
   ]
  },
  {
   "cell_type": "markdown",
   "id": "4be8022f",
   "metadata": {},
   "source": [
    "##### <ins><font color=#17A67E>Frame Amplitues\n",
    "\n",
    "The relatives amplitudes is the how the amplitudes varies between frame. The amplitudes of the rotating signal and the speackles are estiamted separelty. The amplitudes of the first frame is 1. Hence the **two vectors returned by the fuction have have the size NumberOfFrames-1**\n",
    "\n",
    "The function below return the two vector of frame amplitude `ampL, ampX`.\n",
    "If you set `show=True` or `save=$path$`, it will also plot the relative difference of amplitude of each frame."
   ]
  },
  {
   "cell_type": "code",
   "execution_count": null,
   "id": "0cd4aadb",
   "metadata": {},
   "outputs": [],
   "source": [
    "flx = estimator.get_flux()"
   ]
  },
  {
   "cell_type": "markdown",
   "id": "98452213",
   "metadata": {},
   "source": [
    "#### <ins><font color=#17A67E> Frame weight \n",
    "\n",
    "The frame weight is computed based on the PA angle vector of each frame. Indeed for the sake of the estimation, if the angle between two frame is two small, there is chance that the signal will overllap and it can biais the results.\n",
    "\n",
    "The fuction below return the vector of frame weights.\n",
    "If you set `show=True` or `save=$path$`, it will also plot the weight bars and the PA angle cuve."
   ]
  },
  {
   "cell_type": "code",
   "execution_count": null,
   "id": "0f638fdc",
   "metadata": {},
   "outputs": [],
   "source": [
    "wr = estimator.get_rot_weight()"
   ]
  },
  {
   "cell_type": "markdown",
   "id": "d197ec05",
   "metadata": {},
   "source": [
    "#### <ins><font color=#17A67E> Residual\n",
    "\n",
    "This is the noise. If you see some structures that is alright. This map containt every kind of noise - not only white.\n",
    "MUSTARD can distangle noise that have a life time between *( exposure time < lifetime < aquisition-time/2 )*.\n",
    "\n",
    "**Look carefully**, because if you see very clear structes that look like the disk and/or that appear on more that half of the frames it might be a sign that something went wrong.\n"
   ]
  },
  {
   "cell_type": "code",
   "execution_count": null,
   "id": "d31ac444",
   "metadata": {},
   "outputs": [],
   "source": [
    "from numpy import percentile\n",
    "from hciplot import plot_cubes\n",
    "\n",
    "residual = estimator.get_residual()\n",
    "lim = percentile(abs(residual),99) # TIP : try without percentile.\n",
    "plot_cubes(residual,cmap=\"jet\",vmax=lim,vmin=-lim)\n"
   ]
  },
  {
   "cell_type": "markdown",
   "id": "8194b81a",
   "metadata": {},
   "source": [
    "#### <ins><font color=#17A67E> Reconstruction\n",
    "\n",
    "This is the reconstruction. It should look like the initial ADI cube."
   ]
  },
  {
   "cell_type": "code",
   "execution_count": null,
   "id": "6c7a91cc",
   "metadata": {},
   "outputs": [],
   "source": [
    "reconstruction = estimator.get_reconstruction()\n",
    "plot_cubes(reconstruction, cmap=\"jet\", vmax=percentile(reconstruction,99))"
   ]
  },
  {
   "cell_type": "markdown",
   "id": "acfab89b",
   "metadata": {},
   "source": [
    "**BONUS** : You can generate the mustard gif of your simulation (the one in introcution)"
   ]
  },
  {
   "cell_type": "code",
   "execution_count": null,
   "id": "4f5762d5",
   "metadata": {},
   "outputs": [],
   "source": [
    "estimator.mustard_results()"
   ]
  },
  {
   "cell_type": "markdown",
   "id": "2bda7224",
   "metadata": {},
   "source": [
    "The result will be print saved in your datadir. "
   ]
  }
 ],
 "metadata": {
  "kernelspec": {
   "display_name": "Python 3",
   "language": "python",
   "name": "python3"
  },
  "language_info": {
   "codemirror_mode": {
    "name": "ipython",
    "version": 3
   },
   "file_extension": ".py",
   "mimetype": "text/x-python",
   "name": "python",
   "nbconvert_exporter": "python",
   "pygments_lexer": "ipython3",
   "version": "3.7.12"
  }
 },
 "nbformat": 4,
 "nbformat_minor": 5
}
